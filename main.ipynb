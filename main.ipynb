#1º Limpieza de datos
#2º ERD (.sql)
#3º Creación y carga de base de datos 
#Bonus: 5-10 querys
